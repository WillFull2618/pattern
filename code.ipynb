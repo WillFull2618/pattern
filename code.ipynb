{
  "cells": [
    {
      "metadata": {},
      "cell_type": "markdown",
      "source": "# Pattern Recognition - Coursework 1"
    },
    {
      "metadata": {},
      "cell_type": "markdown",
      "source": "### Load data"
    },
    {
      "metadata": {
        "trusted": true,
        "scrolled": true
      },
      "cell_type": "code",
      "source": "import scipy.io as sio\nimport numpy as np\nimport matplotlib.pyplot as plt\n\nmat_content = sio.loadmat('assets/face.mat')",
      "execution_count": 1,
      "outputs": []
    },
    {
      "metadata": {},
      "cell_type": "markdown",
      "source": "### Initializations"
    },
    {
      "metadata": {
        "trusted": true
      },
      "cell_type": "code",
      "source": "face_data = mat_content['X']\nface_data_size = face_data.shape\nface_size = [face_data_size[0], 1]\n\nface_display_size = [46, 56]\n\nprint(face_data_size[0])",
      "execution_count": 3,
      "outputs": [
        {
          "output_type": "stream",
          "text": "2576\n",
          "name": "stdout"
        }
      ]
    },
    {
      "metadata": {},
      "cell_type": "markdown",
      "source": "### Training and Testing sets"
    },
    {
      "metadata": {
        "trusted": true
      },
      "cell_type": "code",
      "source": "Nfpp = 10\nNfpp_train = 6\n\nface_data_training = np.zeros(face_data_size[0], int(face_data_size[1] * Nfpp_train / Nfpp))\nface_data_testing = np.zeros(face_data_size[0], int(face_data_size[1] * (Nfpp - Nfpp_train) / Nfpp)\n\nfor j ",
      "execution_count": null,
      "outputs": []
    }
  ],
  "metadata": {
    "kernelspec": {
      "name": "python36",
      "display_name": "Python 3.6",
      "language": "python"
    },
    "language_info": {
      "mimetype": "text/x-python",
      "nbconvert_exporter": "python",
      "name": "python",
      "pygments_lexer": "ipython3",
      "version": "3.6.6",
      "file_extension": ".py",
      "codemirror_mode": {
        "version": 3,
        "name": "ipython"
      }
    }
  },
  "nbformat": 4,
  "nbformat_minor": 2
}